{
 "cells": [
  {
   "cell_type": "markdown",
   "id": "566a805e",
   "metadata": {},
   "source": [
    "# Chapter 01: Algorithm Complexity and Big O Notation"
   ]
  },
  {
   "cell_type": "markdown",
   "id": "f8f4abf4",
   "metadata": {},
   "source": [
    "## Introduction"
   ]
  },
  {
   "cell_type": "markdown",
   "id": "d065487e",
   "metadata": {},
   "source": [
    "#### Computers can execute a task using different algorithms. An algorithm is a series of steps taken by the computer to reach at the output. Algorithm Complexity is one of the metrics used to compare algorithms.\n",
    "\n",
    "#### Algorithm Complexity can be further divided into Time Complexity and Space Complexity.\n",
    "1. Time Complexity refers to time taken by the algorithm.\n",
    "2. Space Complexity refers to memory occupied by the algorithm."
   ]
  },
  {
   "cell_type": "markdown",
   "id": "74faf16c",
   "metadata": {},
   "source": [
    "## Importance of Algorithm Complexity"
   ]
  },
  {
   "cell_type": "markdown",
   "id": "c302ccd3",
   "metadata": {},
   "source": [
    "#### Lets compare two programs to find the power of a number."
   ]
  },
  {
   "cell_type": "markdown",
   "id": "b61d62a6",
   "metadata": {},
   "source": [
    "### Program 1: Using custom function"
   ]
  },
  {
   "cell_type": "code",
   "execution_count": 1,
   "id": "4ec1fe34",
   "metadata": {},
   "outputs": [
    {
     "name": "stdout",
     "output_type": "stream",
     "text": [
      "737 ns ± 40.6 ns per loop (mean ± std. dev. of 4 runs, 1000000 loops each)\n"
     ]
    }
   ],
   "source": [
    "def custom_power(x, y):\n",
    "    result = 1\n",
    "    for i in range(y):\n",
    "        result *= x\n",
    "    \n",
    "    return result\n",
    "\n",
    "%timeit -r 4 -n 1000000 custom_power(3, 4)"
   ]
  },
  {
   "cell_type": "markdown",
   "id": "7812ae59",
   "metadata": {},
   "source": [
    "### Program 2: Using builtin function"
   ]
  },
  {
   "cell_type": "code",
   "execution_count": 2,
   "id": "d7b69f48",
   "metadata": {},
   "outputs": [
    {
     "name": "stdout",
     "output_type": "stream",
     "text": [
      "442 ns ± 33.6 ns per loop (mean ± std. dev. of 4 runs, 1000000 loops each)\n"
     ]
    }
   ],
   "source": [
    "%timeit -r 4 -n 1000000 pow(3, 4)"
   ]
  },
  {
   "cell_type": "markdown",
   "id": "a066ba3c",
   "metadata": {},
   "source": [
    "#### We can see that Program 2 is almost twice as fast as Program 1. If you are building a real-world application, wrong choice of algorithms can result in sluggish and inefficient user experiences. Hence, it is very important to determine Algorithm Complexity and optimize it."
   ]
  },
  {
   "cell_type": "markdown",
   "id": "6a43b701",
   "metadata": {},
   "source": [
    "## Need for Big(O) Notation"
   ]
  },
  {
   "cell_type": "markdown",
   "id": "ef28c6ee",
   "metadata": {},
   "source": [
    "#### Earlier, we used clock time to compare the programs. But clock time is not a reliable measure since it is hardware dependent. An efficient algorithm can take more time in a slower computer than an inefficient algorithm in a faster computer.\n",
    "\n",
    "#### Big(O) Notation is an Algorithm Complexity metric that defines the relationship between the number of inputs and the number of steps taken by the algorithm. In other words, it is about measuring the amount of work a program has to do as the input scales. We can use Big(O) to define both time and space complexity.\n",
    "\n",
    "#### Below are some examples of Big(O) Notation from fastest/best to slowest/worst."
   ]
  },
  {
   "cell_type": "markdown",
   "id": "1991762c",
   "metadata": {},
   "source": [
    "| **Function** | **Big(O) Notation** |\n",
    "|:-------------|---------------------|\n",
    "| Constant     | O(c)                |\n",
    "| Logarithmic  | O(log(n))           |\n",
    "| Linear       | O(n)                |\n",
    "| Quadratic    | O(n^2)              |\n",
    "| Cubic        | O(n^3)              |\n",
    "| Exponential  | O(2^n)              |\n",
    "| Factorial    | O(n!)               |\n"
   ]
  },
  {
   "cell_type": "markdown",
   "id": "37ffda00",
   "metadata": {},
   "source": [
    "## Big(O) Notation for Time Complexity"
   ]
  },
  {
   "cell_type": "markdown",
   "id": "fa31e40c",
   "metadata": {},
   "source": [
    "### Constant Complexity"
   ]
  },
  {
   "cell_type": "markdown",
   "id": "c65a2199",
   "metadata": {},
   "source": [
    "#### In Constant Complexity, the steps taken to complete the execution of a program remains the same irrespective of the input size."
   ]
  },
  {
   "cell_type": "code",
   "execution_count": 3,
   "id": "86ca51a9",
   "metadata": {},
   "outputs": [
    {
     "name": "stdout",
     "output_type": "stream",
     "text": [
      "27\n"
     ]
    }
   ],
   "source": [
    "import numpy as np\n",
    "\n",
    "def display_first_cube(items):\n",
    "    result = pow(items[0], 3)\n",
    "    print(result)\n",
    "    \n",
    "inputs = [3, 5, 2, 6, 7]\n",
    "display_first_cube(inputs)"
   ]
  },
  {
   "cell_type": "markdown",
   "id": "dd89cb38",
   "metadata": {},
   "source": [
    "#### In above example, `display_first_cube()` calculates & displays cube of first number of input list. No matter the size of the input list, it performs 2 steps (calculation of cube of first element, displaying cube). Hence, Time Complexity is constant & does not scale with input."
   ]
  },
  {
   "cell_type": "code",
   "execution_count": 4,
   "id": "598e9362",
   "metadata": {},
   "outputs": [
    {
     "data": {
      "image/png": "[encoded data removed]",
      "text/plain": [
       "<Figure size 432x288 with 1 Axes>"
      ]
     },
     "metadata": {
      "needs_background": "light"
     },
     "output_type": "display_data"
    }
   ],
   "source": [
    "# Plot of Constant Complexity\n",
    "import numpy as np\n",
    "import matplotlib.pyplot as plt\n",
    "\n",
    "n_inputs = np.array([1, 2, 3, 4, 5, 6, 7, 8, 9, 10])\n",
    "n_steps = [2 for n in n_inputs]\n",
    "\n",
    "plt.plot(n_inputs, n_steps, 'r')\n",
    "plt.xlabel(\"No of Inputs\")\n",
    "plt.ylabel(\"No of Steps\")\n",
    "plt.title(\"O(c) Complexity\")\n",
    "plt.show()"
   ]
  },
  {
   "cell_type": "markdown",
   "id": "fc4a2e38",
   "metadata": {},
   "source": [
    "### Linear Complexity"
   ]
  },
  {
   "cell_type": "markdown",
   "id": "af11fa2b",
   "metadata": {},
   "source": [
    "#### In functions or algorithms with linear complexity, a single unit increase in the input causes a unit increase in the steps required to complete the program execution. A function that calculates the cubes of all elements in a list has a linear complexity. This is because as the input (the list) grows, it will need to do one unit more work per item."
   ]
  },
  {
   "cell_type": "code",
   "execution_count": 5,
   "id": "3536d8ab",
   "metadata": {},
   "outputs": [
    {
     "name": "stdout",
     "output_type": "stream",
     "text": [
      "27\n",
      "125\n",
      "8\n",
      "216\n",
      "343\n"
     ]
    }
   ],
   "source": [
    "import numpy as np\n",
    "\n",
    "def display_all_cubes(items):\n",
    "    for item in items:\n",
    "        result = pow(item, 3)\n",
    "        print(result)\n",
    "    \n",
    "inputs = [3, 5, 2, 6, 7]\n",
    "display_all_cubes(inputs)"
   ]
  },
  {
   "cell_type": "code",
   "execution_count": 6,
   "id": "3a02aafa",
   "metadata": {},
   "outputs": [
    {
     "data": {
      "image/png": "[encoded data removed]",
      "text/plain": [
       "<Figure size 432x288 with 1 Axes>"
      ]
     },
     "metadata": {
      "needs_background": "light"
     },
     "output_type": "display_data"
    }
   ],
   "source": [
    "# Plot of Linear Complexity\n",
    "import numpy as np\n",
    "import matplotlib.pyplot as plt\n",
    "\n",
    "n_inputs = np.array([1, 2, 3, 4, 5, 6, 7, 8, 9, 10])\n",
    "n_steps = [2*n for n in n_inputs]\n",
    "\n",
    "plt.plot(n_inputs, n_steps, 'r')\n",
    "plt.xlabel(\"No of Inputs\")\n",
    "plt.ylabel(\"No of Steps\")\n",
    "plt.title(\"O(n) Complexity\")\n",
    "plt.show()"
   ]
  },
  {
   "cell_type": "markdown",
   "id": "32433478",
   "metadata": {},
   "source": [
    "### Quadratic Complexity"
   ]
  },
  {
   "cell_type": "markdown",
   "id": "82fa6cc7",
   "metadata": {},
   "source": [
    "Here, as no of inputs increases by n, no of steps taken by program increases by $n^2$."
   ]
  },
  {
   "cell_type": "code",
   "execution_count": 7,
   "id": "737b224d",
   "metadata": {},
   "outputs": [
    {
     "name": "stdout",
     "output_type": "stream",
     "text": [
      "9\n",
      "15\n",
      "6\n",
      "18\n",
      "21\n",
      "15\n",
      "25\n",
      "10\n",
      "30\n",
      "35\n",
      "6\n",
      "10\n",
      "4\n",
      "12\n",
      "14\n",
      "18\n",
      "30\n",
      "12\n",
      "36\n",
      "42\n",
      "21\n",
      "35\n",
      "14\n",
      "42\n",
      "49\n"
     ]
    }
   ],
   "source": [
    "import numpy as np\n",
    "\n",
    "def display_all_products(items):\n",
    "    for item in items:\n",
    "        for inner_item in items:\n",
    "            print(item * inner_item)\n",
    "            \n",
    "inputs = [3, 5, 2, 6, 7]\n",
    "display_all_products(inputs)"
   ]
  },
  {
   "cell_type": "markdown",
   "id": "170012de",
   "metadata": {},
   "source": [
    "#### In the above code, the `display_all_products()` multiplies each item in the “items” list with all the other elements. The outer loop iterates through each item, and then for each item in the outer loop, the inner loop iterates over each item. This makes total number of steps n x n where n is the number of items in the “items” list."
   ]
  },
  {
   "cell_type": "code",
   "execution_count": 8,
   "id": "8803c2b9",
   "metadata": {},
   "outputs": [
    {
     "data": {
      "image/png": "[encoded data removed]",
      "text/plain": [
       "<Figure size 432x288 with 1 Axes>"
      ]
     },
     "metadata": {
      "needs_background": "light"
     },
     "output_type": "display_data"
    }
   ],
   "source": [
    "# Plot of Quadratic Complexity\n",
    "import numpy as np\n",
    "import matplotlib.pyplot as plt\n",
    "\n",
    "n_inputs = np.array([1, 2, 3, 4, 5, 6, 7, 8, 9, 10])\n",
    "n_steps = [n*n for n in n_inputs]\n",
    "\n",
    "plt.plot(n_inputs, n_steps, 'r')\n",
    "plt.xlabel(\"No of Inputs\")\n",
    "plt.ylabel(\"No of Steps\")\n",
    "plt.title(\"O(n^2) Complexity\")\n",
    "plt.show()"
   ]
  }
 ],
 "metadata": {
  "kernelspec": {
   "display_name": "dsa_env38",
   "language": "python",
   "name": "dsa_env38"
  },
  "language_info": {
   "codemirror_mode": {
    "name": "ipython",
    "version": 3
   },
   "file_extension": ".py",
   "mimetype": "text/x-python",
   "name": "python",
   "nbconvert_exporter": "python",
   "pygments_lexer": "ipython3",
   "version": "3.8.10"
  }
 },
 "nbformat": 4,
 "nbformat_minor": 5
}
