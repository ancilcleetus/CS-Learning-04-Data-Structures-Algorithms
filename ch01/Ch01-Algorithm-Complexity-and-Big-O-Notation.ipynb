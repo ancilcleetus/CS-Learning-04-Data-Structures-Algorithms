{
 "cells": [
  {
   "cell_type": "markdown",
   "id": "566a805e",
   "metadata": {},
   "source": [
    "# Chapter 01: Algorithm Complexity and Big O Notation"
   ]
  },
  {
   "cell_type": "markdown",
   "id": "f8f4abf4",
   "metadata": {},
   "source": [
    "## Introduction"
   ]
  },
  {
   "cell_type": "markdown",
   "id": "d065487e",
   "metadata": {},
   "source": [
    "#### Computers can execute a task using different algorithms. An algorithm is a series of steps taken by the computer to reach at the output. Algorithm Complexity is one of the metrics used to compare algorithms.\n",
    "\n",
    "#### Algorithm Complexity can be further divided into Time Complexity and Space Complexity.\n",
    "1. Time Complexity refers to time taken by the algorithm.\n",
    "2. Space Complexity refers to memory occupied by the algorithm."
   ]
  },
  {
   "cell_type": "markdown",
   "id": "74faf16c",
   "metadata": {},
   "source": [
    "## Importance of Algorithm Complexity"
   ]
  },
  {
   "cell_type": "markdown",
   "id": "c302ccd3",
   "metadata": {},
   "source": [
    "#### Lets compare two programs to find the power of a number."
   ]
  },
  {
   "cell_type": "markdown",
   "id": "b61d62a6",
   "metadata": {},
   "source": [
    "### Program 1: Using custom function"
   ]
  },
  {
   "cell_type": "code",
   "execution_count": 1,
   "id": "4ec1fe34",
   "metadata": {},
   "outputs": [
    {
     "name": "stdout",
     "output_type": "stream",
     "text": [
      "827 ns ± 39.7 ns per loop (mean ± std. dev. of 4 runs, 1000000 loops each)\n"
     ]
    }
   ],
   "source": [
    "%%timeit -r 4 -n 1000000\n",
    "\n",
    "def custom_power(x, y):\n",
    "    result = 1\n",
    "    for i in range(y):\n",
    "        result *= x\n",
    "    \n",
    "    return result\n",
    "\n",
    "custom_power(3, 4)"
   ]
  },
  {
   "cell_type": "markdown",
   "id": "7812ae59",
   "metadata": {},
   "source": [
    "### Program 2: Using builtin function"
   ]
  },
  {
   "cell_type": "code",
   "execution_count": 2,
   "id": "d7b69f48",
   "metadata": {},
   "outputs": [
    {
     "name": "stdout",
     "output_type": "stream",
     "text": [
      "429 ns ± 25.5 ns per loop (mean ± std. dev. of 4 runs, 1000000 loops each)\n"
     ]
    }
   ],
   "source": [
    "%%timeit -r 4 -n 1000000\n",
    "pow(3, 4)"
   ]
  },
  {
   "cell_type": "markdown",
   "id": "a066ba3c",
   "metadata": {},
   "source": [
    "#### We can see that Program 2 is almost twice as fast as Program 1. If you are building a real-world application, wrong choice of algorithms can result in sluggish and inefficient user experiences. Hence, it is very important to determine Algorithm Complexity and optimize it."
   ]
  },
  {
   "cell_type": "markdown",
   "id": "6a43b701",
   "metadata": {},
   "source": [
    "## Need for Big(O) Notation"
   ]
  },
  {
   "cell_type": "markdown",
   "id": "ef28c6ee",
   "metadata": {},
   "source": [
    "#### Earlier, we used clock time to compare the programs. But clock time is not a reliable measure since it is hardware dependent. An efficient algorithm can take more time in a slower computer than an inefficient algorithm in a faster computer.\n",
    "\n",
    "#### Big(O) Notation is an Algorithm Complexity metric that defines the relationship between the number of inputs and the number of steps taken by the algorithm. In other words, it is about measuring the amount of work a program has to do as the input scales. We can use Big(O) to define both time and space complexity.\n",
    "\n",
    "#### Below are some examples of Big(O) Notation from fastest/best to slowest/worst."
   ]
  },
  {
   "cell_type": "markdown",
   "id": "1991762c",
   "metadata": {},
   "source": [
    "| **Function** | **Big(O) Notation** |\n",
    "|:-------------|---------------------|\n",
    "| Constant     | O(c)                |\n",
    "| Logarithmic  | O(log(n))           |\n",
    "| Linear       | O(n)                |\n",
    "| Quadratic    | O(n^2)              |\n",
    "| Cubic        | O(n^3)              |\n",
    "| Exponential  | O(2^n)              |\n",
    "| Factorial    | O(n!)               |\n"
   ]
  },
  {
   "cell_type": "markdown",
   "id": "37ffda00",
   "metadata": {},
   "source": [
    "## Big(O) Notation for Time Complexity"
   ]
  },
  {
   "cell_type": "markdown",
   "id": "fa31e40c",
   "metadata": {},
   "source": [
    "### Constant Complexity"
   ]
  },
  {
   "cell_type": "markdown",
   "id": "c65a2199",
   "metadata": {},
   "source": [
    "#### In Constant Complexity, the steps taken to complete the execution of a program remains the same irrespective of the input size."
   ]
  },
  {
   "cell_type": "code",
   "execution_count": 3,
   "id": "86ca51a9",
   "metadata": {},
   "outputs": [
    {
     "name": "stdout",
     "output_type": "stream",
     "text": [
      "27\n"
     ]
    }
   ],
   "source": [
    "import numpy as np\n",
    "\n",
    "def display_first_cube(items):\n",
    "    result = pow(items[0], 3)\n",
    "    print(result)\n",
    "    \n",
    "inputs = [3, 5, 2, 6, 7]\n",
    "display_first_cube(inputs)"
   ]
  },
  {
   "cell_type": "markdown",
   "id": "cfcbc844",
   "metadata": {},
   "source": [
    "#### In above example, display_first_cube() calculates & displays cube of first number of input list. No matter the size of the input list, it performs 2 steps (calculation of cube of first element, displaying cube). Hence, Time Complexity is constant & does not scale with input."
   ]
  },
  {
   "cell_type": "code",
   "execution_count": 4,
   "id": "1a986a84",
   "metadata": {},
   "outputs": [
    {
     "data": {
      "image/png": "[encoded data removed]",
      "text/plain": [
       "<Figure size 432x288 with 1 Axes>"
      ]
     },
     "metadata": {
      "needs_background": "light"
     },
     "output_type": "display_data"
    }
   ],
   "source": [
    "# Plot of Constant Complexity\n",
    "import numpy as np\n",
    "import matplotlib.pyplot as plt\n",
    "\n",
    "n_inputs = np.array([1, 2, 3, 4, 5, 6, 7, 8, 9, 10])\n",
    "n_steps = [2 for n in n_inputs]\n",
    "\n",
    "plt.plot(n_inputs, n_steps, 'r')\n",
    "plt.xlabel(\"No of Inputs\")\n",
    "plt.ylabel(\"No of Steps\")\n",
    "plt.title(\"O(c) Complexity\")\n",
    "plt.show()"
   ]
  }
 ],
 "metadata": {
  "kernelspec": {
   "display_name": "dsa_env38",
   "language": "python",
   "name": "dsa_env38"
  },
  "language_info": {
   "codemirror_mode": {
    "name": "ipython",
    "version": 3
   },
   "file_extension": ".py",
   "mimetype": "text/x-python",
   "name": "python",
   "nbconvert_exporter": "python",
   "pygments_lexer": "ipython3",
   "version": "3.8.10"
  }
 },
 "nbformat": 4,
 "nbformat_minor": 5
}
